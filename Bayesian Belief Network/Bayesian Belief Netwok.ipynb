{
 "cells": [
  {
   "cell_type": "code",
   "execution_count": null,
   "metadata": {},
   "outputs": [],
   "source": [
    "# !pip install pybbn "
   ]
  },
  {
   "cell_type": "code",
   "execution_count": 1,
   "metadata": {},
   "outputs": [],
   "source": [
    "from pybbn.graph.dag import Bbn\n",
    "from pybbn.graph.edge import Edge, EdgeType\n",
    "from pybbn.graph.jointree import EvidenceBuilder\n",
    "from pybbn.graph.node import BbnNode\n",
    "from pybbn.graph.variable import Variable\n",
    "from pybbn.pptc.inferencecontroller import InferenceController"
   ]
  },
  {
   "cell_type": "code",
   "execution_count": 8,
   "metadata": {},
   "outputs": [],
   "source": [
    " # create the nodes\n",
    "burglary = BbnNode(Variable(0, 'burglary', ['true', 'false']), [0.001, 0.999])\n",
    "earthquake = BbnNode(Variable(1, 'earthquake', ['true', 'false']), [0.002, 0.998])\n",
    "alarm = BbnNode(Variable(2, 'alarm', ['true', 'false']), [0.95, 0.05, 0.94, 0.06,0.29,0.71,0.001, 0.999])\n",
    "john_calls = BbnNode(Variable(3, 'john_calls', ['true', 'false']), [0.9, 0.1, 0.05, 0.95, 0.3, 0.7, 0.1, 0.9])\n",
    "mary_calls = BbnNode(Variable(4, 'mary_calls', ['true', 'false']), [0.7, 0.3, 0.01, 0.99])\n",
    "\n",
    "bbn = Bbn() \\\n",
    "    .add_node(burglary) \\\n",
    "    .add_node(earthquake) \\\n",
    "    .add_node(alarm) \\\n",
    "    .add_node(rain) \\\n",
    "    .add_node(john_calls) \\\n",
    "    .add_node(mary_calls) \\\n",
    "    .add_edge(Edge(burglary, alarm, EdgeType.DIRECTED)) \\\n",
    "    .add_edge(Edge(earthquake, alarm, EdgeType.DIRECTED)) \\\n",
    "    .add_edge(Edge(alarm, john_calls, EdgeType.DIRECTED)) \\\n",
    "    .add_edge(Edge(alarm, mary_calls, EdgeType.DIRECTED)) "
   ]
  },
  {
   "cell_type": "code",
   "execution_count": 9,
   "metadata": {},
   "outputs": [
    {
     "data": {
      "image/png": "[encoded data removed]",
      "text/plain": [
       "<Figure size 1440x720 with 1 Axes>"
      ]
     },
     "metadata": {},
     "output_type": "display_data"
    }
   ],
   "source": [
    " %matplotlib inline\n",
    "from pybbn.generator.bbngenerator import convert_for_drawing\n",
    "import matplotlib.pyplot as plt\n",
    "import networkx as nx\n",
    "import warnings\n",
    "\n",
    "with warnings.catch_warnings():\n",
    "    warnings.simplefilter('ignore')\n",
    "    \n",
    "    graph = convert_for_drawing(bbn)\n",
    "    pos = nx.nx_agraph.graphviz_layout(graph, prog='neato')\n",
    "\n",
    "    plt.figure(figsize=(20, 10))\n",
    "    plt.subplot(121) \n",
    "    labels = dict([(k, node.variable.name) for k, node in bbn.nodes.items()])\n",
    "    nx.draw(graph, pos=pos, with_labels=True, labels=labels)\n",
    "    plt.title('BBN DAG')"
   ]
  },
  {
   "cell_type": "code",
   "execution_count": 11,
   "metadata": {},
   "outputs": [
    {
     "name": "stdout",
     "output_type": "stream",
     "text": [
      "2|alarm|true,false\n",
      "2=true|0.15009\n",
      "2=false|0.84991\n",
      "--------------------->\n",
      "3|john_calls|true,false\n",
      "3=true|0.17758\n",
      "3=false|0.82242\n",
      "--------------------->\n",
      "4|mary_calls|true,false\n",
      "4=true|1.00000\n",
      "4=false|0.00000\n",
      "--------------------->\n",
      "1|earthquake|true,false\n",
      "1=true|0.03588\n",
      "1=false|0.96412\n",
      "--------------------->\n",
      "0|burglary|true,false\n",
      "0=true|0.05612\n",
      "0=false|0.94388\n",
      "--------------------->\n"
     ]
    }
   ],
   "source": [
    "# convert the BBN to a join tree\n",
    "join_tree = InferenceController.apply(bbn)\n",
    "# insert an observation evidence\n",
    "ev = EvidenceBuilder() \\\n",
    "    .with_node(join_tree.get_bbn_node_by_name('mary_calls')) \\\n",
    "    .with_evidence('true', 1.0) \\\n",
    "    .build()\n",
    "join_tree.set_observation(ev)\n",
    "# print the marginal probabilities\n",
    "for node in join_tree.get_bbn_nodes():\n",
    "    potential = join_tree.get_bbn_potential(node)\n",
    "    print(node)\n",
    "    print(potential)\n",
    "    print('--------------------->')"
   ]
  },
  {
   "cell_type": "code",
   "execution_count": 13,
   "metadata": {},
   "outputs": [
    {
     "name": "stdout",
     "output_type": "stream",
     "text": [
      "2|alarm|true,false\n",
      "2=true|0.33329\n",
      "2=false|0.66671\n",
      "--------------------->\n",
      "3|john_calls|true,false\n",
      "3=true|0.00000\n",
      "3=false|1.00000\n",
      "--------------------->\n",
      "4|mary_calls|true,false\n",
      "4=true|0.00000\n",
      "4=false|1.00000\n",
      "--------------------->\n",
      "1|earthquake|true,false\n",
      "1=true|0.00179\n",
      "1=false|0.99821\n",
      "--------------------->\n",
      "0|burglary|true,false\n",
      "0=true|1.00000\n",
      "0=false|0.00000\n",
      "--------------------->\n"
     ]
    }
   ],
   "source": [
    "join_tree = InferenceController.apply(bbn)\n",
    "ev1 = EvidenceBuilder() \\\n",
    "    .with_node(join_tree.get_bbn_node_by_name('burglary')) \\\n",
    "    .with_evidence('true', 1.0) \\\n",
    "    .build()\n",
    "ev2 = EvidenceBuilder() \\\n",
    "    .with_node(join_tree.get_bbn_node_by_name('john_calls')) \\\n",
    "    .with_evidence('false', 1.0) \\\n",
    "    .build()\n",
    "\n",
    "ev3 = EvidenceBuilder() \\\n",
    "    .with_node(join_tree.get_bbn_node_by_name('mary_calls')) \\\n",
    "    .with_evidence('false', 1.0) \\\n",
    "    .build()\n",
    "\n",
    "\n",
    "join_tree.set_observation(ev1)\n",
    "join_tree.set_observation(ev2)\n",
    "join_tree.set_observation(ev3)\n",
    "\n",
    "for node in join_tree.get_bbn_nodes():\n",
    "    potential = join_tree.get_bbn_potential(node)\n",
    "    print(node)\n",
    "    print(potential)\n",
    "    print('--------------------->')"
   ]
  },
  {
   "cell_type": "code",
   "execution_count": null,
   "metadata": {},
   "outputs": [],
   "source": []
  }
 ],
 "metadata": {
  "kernelspec": {
   "display_name": "Python 3",
   "language": "python",
   "name": "python3"
  },
  "language_info": {
   "codemirror_mode": {
    "name": "ipython",
    "version": 3
   },
   "file_extension": ".py",
   "mimetype": "text/x-python",
   "name": "python",
   "nbconvert_exporter": "python",
   "pygments_lexer": "ipython3",
   "version": "3.7.3"
  }
 },
 "nbformat": 4,
 "nbformat_minor": 2
}
