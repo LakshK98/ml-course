{
 "cells": [
  {
   "cell_type": "code",
   "execution_count": 1,
   "metadata": {},
   "outputs": [],
   "source": [
    "import pandas as pd \n",
    "data = pd.read_csv(\"data.csv\") "
   ]
  },
  {
   "cell_type": "code",
   "execution_count": 2,
   "metadata": {},
   "outputs": [],
   "source": [
    "import numpy as np\n",
    "data_np =data.values\n",
    "# removing timestamp\n",
    "data_np=data_np[:,1:]\n",
    "\n",
    "for i in range(data_np.shape[0]):\n",
    "    for j in range(data_np.shape[1]):\n",
    "        data_np[i][j]=1 if data_np[i][j]==\"Yes\" else 0 if data_np[i][j]==\"No\" else data_np[i][j]\n",
    "        data_np[i][j]=1 if data_np[i][j]==\"Male\" else 0 if data_np[i][j]==\"Female\" else data_np[i][j]\n"
   ]
  },
  {
   "cell_type": "code",
   "execution_count": 3,
   "metadata": {},
   "outputs": [
    {
     "data": {
      "text/plain": [
       "array([[96.0, 92.8, 9.77, 9.63, 9.42, 9.14, 9.0, 9.3, 9.25, 1, 1, 6.0, 5,\n",
       "        3.0, 1.0, 0, 0, 0],\n",
       "       [87.2, 79.54, 7.77, 7.81, 8.48, 8.48, 8.27, 8.35, 8.08, 1, 0, 6.0,\n",
       "        5, 0.0, 4.0, 0, 0, 0],\n",
       "       [91.8, 87.38, 7.31, 7.18, 8.7, 7.62, 7.18, 8.04, 8.46, 1, 0, 2.0,\n",
       "        4, 4.0, 6.0, 0, 0, 0],\n",
       "       [94.4, 89.5, 8.46, 9.31, 8.8, 8.5, 8.2, 8.02, 8.75, 0, 0, 2.0, 4,\n",
       "        2.0, 2.0, 0, 1, 0],\n",
       "       [92.2, 85.6, 9.27, 9.73, 9.22, 9.29, 8.45, 8.7, 8.88, 1, 1, 1.0,\n",
       "        3, 2.5, 2.0, 0, 0, 1],\n",
       "       [94.4, 88.15, 9.58, 9.35, 9.17, 9.1, 8.86, 9.3, 9.1, 1, 0, 5.0, 3,\n",
       "        3.0, 2.0, 0, 0, 1],\n",
       "       [93.8, 85.23, 8.77, 9.58, 9.17, 8.81, 8.23, 8.52, 8.79, 1, 0, 4.0,\n",
       "        1, 3.0, 4.0, 0, 0, 1],\n",
       "       [88.0, 83.34, 9.08, 8.88, 9.09, 8.71, 7.64, 7.65, 7.67, 1, 0, 7.0,\n",
       "        4, 1.0, 5.0, 0, 1, 0],\n",
       "       [93.2, 89.8, 8.62, 9.19, 8.26, 8.19, 7.91, 8.91, 8.54, 0, 0, 2.0,\n",
       "        4, 2.0, 3.0, 0, 1, 1],\n",
       "       [93.6, 89.69, 9.38, 9.27, 8.83, 9.14, 8.18, 8.57, 9.13, 1, 0, 5.0,\n",
       "        2, 1.0, 2.0, 0, 0, 1],\n",
       "       [92.14, 88.77, 8.81, 8.89, 9.32, 9.22, 8.91, 9.19, 9.35, 1, 0,\n",
       "        1.0, 3, 2.5, 2.0, 0, 1, 1],\n",
       "       [93.2, 80.3, 7.58, 7.22, 7.98, 7.04, 6.45, 6.3, 6.25, 1, 0, 1.0,\n",
       "        4, 1.0, 4.0, 0, 0, 1],\n",
       "       [94.67, 89.7, 9.35, 9.62, 9.35, 9.57, 8.82, 8.7, 9.21, 0, 0, 2.0,\n",
       "        4, 2.0, 2.0, 0, 1, 0],\n",
       "       [92.6, 85.7, 9.19, 9.46, 8.65, 8.38, 7.95, 8.48, 8.54, 1, 0, 8.0,\n",
       "        5, 1.5, 1.0, 0, 1, 1],\n",
       "       [92.0, 86.92, 8.81, 9.04, 8.96, 8.24, 8.18, 7.87, 6.83, 1, 0, 0.0,\n",
       "        4, 1.0, 1.0, 0, 1, 1],\n",
       "       [95.5, 84.07, 7.69, 7.96, 8.78, 8.14, 7.77, 8.3, 8.46, 0, 0, 5.0,\n",
       "        5, 1.0, 3.0, 0, 1, 0],\n",
       "       [93.0, 83.0, 7.54, 8.12, 8.09, 7.05, 7.27, 7.57, 7.45, 1, 0, 1.0,\n",
       "        4, 3.0, 3.0, 0, 0, 0],\n",
       "       [91.4, 80.0, 7.2, 7.6, 8.04, 7.8, 7.5, 8.4, 7.96, 1, 0, 1.0, 3,\n",
       "        0.5, 6.0, 0, 0, 0],\n",
       "       [91.0, 84.0, 7.8, 7.7, 8.5, 7.5, 7.0, 8.0, 8.17, 1, 0, 2.0, 4,\n",
       "        3.0, 10.0, 0, 0, 1],\n",
       "       [90.18, 79.93, 7.1, 6.9, 8.5, 7.5, 7.77, 7.91, 8.04, 1, 0, 3.0, 5,\n",
       "        4.0, 4.0, 0, 0, 0],\n",
       "       [92.0, 93.38, 9.27, 9.54, 9.17, 9.05, 8.5, 8.39, 9.0, 1, 0, 0.5,\n",
       "        4, 3.0, 1.5, 0, 1, 0],\n",
       "       [89.8, 82.92, 8.38, 8.04, 8.26, 7.76, 7.18, 7.57, 7.96, 1, 0, 0.5,\n",
       "        4, 3.0, 0.0, 0, 0, 0],\n",
       "       [93.4, 78.15, 8.31, 8.23, 8.52, 7.62, 7.05, 8.04, 8.21, 1, 0, 0.5,\n",
       "        4, 3.0, 0.5, 0, 0, 1],\n",
       "       [86.4, 85.69, 8.54, 8.42, 8.78, 7.76, 7.5, 7.57, 8.04, 1, 0, 5.0,\n",
       "        3, 4.0, 10.0, 0, 1, 0],\n",
       "       [93.6, 79.85, 8.54, 8.19, 8.35, 7.67, 7.82, 7.96, 8.83, 1, 0, 6.0,\n",
       "        4, 2.0, 2.0, 1, 0, 0],\n",
       "       [93.4, 87.08, 9.5, 9.46, 9.22, 9.29, 9.05, 9.26, 9.29, 1, 0, 2.0,\n",
       "        4, 3.0, 2.0, 0, 1, 1],\n",
       "       [93.0, 91.54, 9.73, 8.96, 9.38, 8.92, 8.91, 9.17, 9.0, 0, 0, 5.0,\n",
       "        3, 2.0, 3.0, 0, 0, 1],\n",
       "       [93.4, 90.1, 9.17, 8.85, 9.17, 8.67, 8.45, 8.35, 8.67, 1, 0, 6.0,\n",
       "        4, 2.0, 5.0, 0, 0, 0],\n",
       "       [94.4, 84.0, 8.64, 7.79, 8.22, 8.0, 7.36, 8.43, 8.79, 1, 0, 3.0,\n",
       "        4, 2.0, 5.0, 0, 1, 0],\n",
       "       [89.4, 83.85, 8.77, 8.08, 8.91, 9.19, 8.4, 8.83, 8.88, 0, 0, 2.5,\n",
       "        5, 2.0, 5.0, 0, 1, 0],\n",
       "       [91.33, 82.46, 8.23, 8.5, 8.57, 8.48, 7.95, 8.35, 8.38, 0, 0, 3.0,\n",
       "        4, 0.5, 4.0, 0, 1, 0],\n",
       "       [90.0, 82.15, 8.15, 8.46, 8.65, 8.43, 7.95, 8.7, 8.25, 1, 0, 4.0,\n",
       "        3, 2.0, 2.0, 0, 0, 0],\n",
       "       [97.0, 93.0, 9.7, 9.85, 9.22, 9.2, 8.91, 9.0, 8.81, 1, 1, 4.0, 3,\n",
       "        3.0, 4.0, 0, 1, 0],\n",
       "       [95.0, 76.0, 7.96, 7.73, 8.74, 8.1, 8.36, 8.17, 8.29, 1, 0, 3.0,\n",
       "        3, 4.0, 4.0, 0, 1, 1],\n",
       "       [94.6, 86.4, 8.62, 8.12, 8.65, 9.05, 8.36, 8.96, 9.21, 1, 0, 3.0,\n",
       "        4, 1.0, 3.0, 0, 0, 0],\n",
       "       [88.0, 84.0, 8.64, 8.42, 8.75, 8.95, 8.14, 8.17, 8.75, 1, 0, 1.0,\n",
       "        3, 0.5, 3.0, 0, 1, 1]], dtype=object)"
      ]
     },
     "execution_count": 3,
     "metadata": {},
     "output_type": "execute_result"
    }
   ],
   "source": [
    "data_np"
   ]
  },
  {
   "cell_type": "code",
   "execution_count": 81,
   "metadata": {},
   "outputs": [],
   "source": [
    "y= data_np[:,-1]\n",
    "x= data_np[:,:-1]\n",
    "x=x.astype(float)\n",
    "y=y.astype(float)\n",
    "x=np.c_[  np.ones(len(x)) ,x ]   \n",
    "\n",
    "train_x=x[:int(len(x)*0.8),:]\n",
    "train_y=y[:int(len(x)*0.8)]\n",
    "test_x=x[int(len(x)*0.8):,:]\n",
    "test_y=y[int(len(x)*0.8):]\n"
   ]
  },
  {
   "cell_type": "code",
   "execution_count": 91,
   "metadata": {},
   "outputs": [],
   "source": [
    "\n",
    "np.random.seed(0)\n",
    "coef=np.random.rand(len(x[0]))\n"
   ]
  },
  {
   "cell_type": "code",
   "execution_count": 83,
   "metadata": {},
   "outputs": [],
   "source": [
    "def sigmoid(x):\n",
    "    epsilon=1e-10\n",
    "    return 1/(1+(np.exp(-x)+epsilon))"
   ]
  },
  {
   "cell_type": "code",
   "execution_count": 84,
   "metadata": {},
   "outputs": [],
   "source": [
    "\n",
    "def cost(x,coef,y):\n",
    "    y_pred=sigmoid(np.matmul(x,coef))\n",
    "    \n",
    "    return np.sum(-y * np.log(y_pred)-(1-y)*np.log(1-y_pred))"
   ]
  },
  {
   "cell_type": "code",
   "execution_count": 181,
   "metadata": {},
   "outputs": [],
   "source": [
    "def descent(x,coef,y,alpha,num_itr):\n",
    "    prev_cost=0\n",
    "    new_coef=np.empty(coef.shape)\n",
    "    itr=0\n",
    "    epsilon=1e-10\n",
    "    while(itr<num_itr):\n",
    "\n",
    "        y_pred=sigmoid(np.matmul(x,coef))\n",
    "        coef-= ((alpha/len(x))* np.sum((y_pred-y).reshape(y_pred.shape[0],1)*x,axis=0))\n",
    "\n",
    "        cur_cost=cost(x,coef,y)\n",
    "#         print(cur_cost)\n",
    "        itr+=1\n",
    "\n",
    "    return cur_cost"
   ]
  },
  {
   "cell_type": "code",
   "execution_count": 189,
   "metadata": {},
   "outputs": [
    {
     "name": "stdout",
     "output_type": "stream",
     "text": [
      "Final cost: 10.919417763356995\n",
      "Final weights: [ 0.44718966  0.12050311 -0.20793215  1.69712972  0.59257348 -0.22138163\n",
      " -0.7292225  -0.58792996  1.51298951 -0.95218579  0.35043602  0.19947636\n",
      " -0.20715639 -1.26189539 -0.20236807 -0.01381464 -0.61662993  0.45425295]\n"
     ]
    }
   ],
   "source": [
    "\n",
    "np.random.seed(0)\n",
    "coef=np.random.rand(len(x[0]))\n",
    "\n",
    "print(\"Final cost:\",descent(train_x,coef,train_y,alpha=0.0005,num_itr=100000))\n",
    "print(\"Final weights:\",coef)\n"
   ]
  },
  {
   "cell_type": "code",
   "execution_count": 190,
   "metadata": {},
   "outputs": [
    {
     "name": "stdout",
     "output_type": "stream",
     "text": [
      "BCE loss= 6.251683064309483\n"
     ]
    }
   ],
   "source": [
    "print(\"BCE loss=\",cost(test_x,coef,test_y))"
   ]
  },
  {
   "cell_type": "code",
   "execution_count": 191,
   "metadata": {},
   "outputs": [
    {
     "name": "stdout",
     "output_type": "stream",
     "text": [
      "actual value: 0.0 prdected value: 1\n",
      "actual value: 0.0 prdected value: 0\n",
      "actual value: 0.0 prdected value: 0\n",
      "actual value: 0.0 prdected value: 1\n",
      "actual value: 0.0 prdected value: 1\n",
      "actual value: 1.0 prdected value: 1\n",
      "actual value: 0.0 prdected value: 0\n",
      "actual value: 1.0 prdected value: 1\n"
     ]
    }
   ],
   "source": [
    "out=sigmoid(np.matmul(test_x,coef))\n",
    "pred=[]\n",
    "for i in range(len(test_x)):\n",
    "#     pred.append((sigmoid(test_x[i]*coef)))\n",
    "#     print(out[i])\n",
    "    pred.append(1 if out[i]>0.5 else 0)\n",
    "    print(\"actual value:\",test_y[i],\"prdected value:\",pred[i])\n",
    "\n",
    "# pred=np.array(pred)\n"
   ]
  },
  {
   "cell_type": "code",
   "execution_count": 195,
   "metadata": {},
   "outputs": [
    {
     "name": "stdout",
     "output_type": "stream",
     "text": [
      "[[3 3]\n",
      " [0 2]]\n"
     ]
    },
    {
     "data": {
      "text/plain": [
       "(0.7, 0.75, 0.6190476190476191, None)"
      ]
     },
     "execution_count": 195,
     "metadata": {},
     "output_type": "execute_result"
    }
   ],
   "source": [
    "from sklearn.metrics import confusion_matrix\n",
    "from sklearn.metrics import precision_recall_fscore_support\n",
    "print(confusion_matrix(test_y,pred))\n",
    "precision_recall_fscore_support(test_y, pred, average='macro')\n",
    "\n"
   ]
  },
  {
   "cell_type": "code",
   "execution_count": 196,
   "metadata": {},
   "outputs": [],
   "source": [
    "feature_importance=[]\n",
    "for i in range(len(coef)):\n",
    "    permute_x=test_x.copy()\n",
    "    np.random.shuffle(permute_x[:,i])\n",
    "#     pred=sigmoid(np.matmul(permute_x,coef))\n",
    "    feature_importance.append(cost(permute_x,coef,test_y))\n"
   ]
  },
  {
   "cell_type": "code",
   "execution_count": 197,
   "metadata": {},
   "outputs": [
    {
     "data": {
      "text/plain": [
       "[<matplotlib.lines.Line2D at 0x1a201d4a58>]"
      ]
     },
     "execution_count": 197,
     "metadata": {},
     "output_type": "execute_result"
    },
    {
     "data": {
      "image/png": "[encoded data removed]",
      "text/plain": [
       "<Figure size 432x288 with 1 Axes>"
      ]
     },
     "metadata": {
      "needs_background": "light"
     },
     "output_type": "display_data"
    }
   ],
   "source": [
    "import matplotlib\n",
    "from matplotlib import pyplot as plt\n",
    "%matplotlib inline\n",
    "plt.plot(feature_importance)"
   ]
  },
  {
   "cell_type": "code",
   "execution_count": 198,
   "metadata": {},
   "outputs": [
    {
     "data": {
      "text/plain": [
       "[6.251683064309487,\n",
       " 5.675919628458772,\n",
       " 7.391506819560198,\n",
       " 5.937580607399042,\n",
       " 6.550472047099572,\n",
       " 6.105946502364965,\n",
       " 6.634850984721895,\n",
       " 6.452132916205764,\n",
       " 5.41281357076784,\n",
       " 6.544028914355359,\n",
       " 6.330950779603869,\n",
       " 6.214425398461035,\n",
       " 6.727721424581212,\n",
       " 8.250687903049435,\n",
       " 5.936362068518319,\n",
       " 6.236274323142061,\n",
       " 6.251683064309487,\n",
       " 6.772949762647013]"
      ]
     },
     "execution_count": 198,
     "metadata": {},
     "output_type": "execute_result"
    }
   ],
   "source": [
    "feature_importance"
   ]
  },
  {
   "cell_type": "code",
   "execution_count": 200,
   "metadata": {},
   "outputs": [
    {
     "data": {
      "text/plain": [
       "[2, 4, 6, 9, 12, 13, 17]"
      ]
     },
     "execution_count": 200,
     "metadata": {},
     "output_type": "execute_result"
    }
   ],
   "source": [
    "important_features=[]\n",
    "for i,importance in enumerate(feature_importance): \n",
    "    if importance>=6.5:\n",
    "        important_features.append(i)\n",
    "important_features"
   ]
  },
  {
   "cell_type": "code",
   "execution_count": 165,
   "metadata": {},
   "outputs": [],
   "source": [
    "important_features=[0]+important_features"
   ]
  },
  {
   "cell_type": "code",
   "execution_count": 201,
   "metadata": {},
   "outputs": [
    {
     "data": {
      "text/plain": [
       "array([[84.  ,  7.79,  8.  ,  8.79,  3.  ,  4.  ,  1.  ],\n",
       "       [83.85,  8.08,  9.19,  8.88,  2.5 ,  5.  ,  1.  ],\n",
       "       [82.46,  8.5 ,  8.48,  8.38,  3.  ,  4.  ,  1.  ],\n",
       "       [82.15,  8.46,  8.43,  8.25,  4.  ,  3.  ,  0.  ],\n",
       "       [93.  ,  9.85,  9.2 ,  8.81,  4.  ,  3.  ,  1.  ],\n",
       "       [76.  ,  7.73,  8.1 ,  8.29,  3.  ,  3.  ,  1.  ],\n",
       "       [86.4 ,  8.12,  9.05,  9.21,  3.  ,  4.  ,  0.  ],\n",
       "       [84.  ,  8.42,  8.95,  8.75,  1.  ,  3.  ,  1.  ]])"
      ]
     },
     "execution_count": 201,
     "metadata": {},
     "output_type": "execute_result"
    }
   ],
   "source": [
    "# creating new test and train set with only important features\n",
    "train_x_new=train_x[:,important_features]\n",
    "test_x_new=test_x[:,important_features]\n",
    "test_x_new"
   ]
  },
  {
   "cell_type": "code",
   "execution_count": 213,
   "metadata": {},
   "outputs": [
    {
     "name": "stdout",
     "output_type": "stream",
     "text": [
      "Final cost: 14.615215457039454\n",
      "Final weights: [-0.06425271  1.77392336 -0.02817125 -0.62793423 -0.1579665  -0.97661755\n",
      " -0.73775573]\n"
     ]
    }
   ],
   "source": [
    "np.random.seed(0)\n",
    "coef=np.random.rand(len(train_x_new[0]))\n",
    "print(\"Final cost:\",descent(train_x_new,coef,train_y,alpha=0.001,num_itr=100000))\n",
    "print(\"Final weights:\",coef)"
   ]
  },
  {
   "cell_type": "code",
   "execution_count": 204,
   "metadata": {},
   "outputs": [
    {
     "name": "stdout",
     "output_type": "stream",
     "text": [
      "BCE loss= 5.011270497242869\n"
     ]
    }
   ],
   "source": [
    "print(\"BCE loss=\",cost(test_x_new,coef,test_y))"
   ]
  },
  {
   "cell_type": "code",
   "execution_count": 205,
   "metadata": {},
   "outputs": [
    {
     "name": "stdout",
     "output_type": "stream",
     "text": [
      "actual value: 0.0 prdected value: 0\n",
      "actual value: 0.0 prdected value: 0\n",
      "actual value: 0.0 prdected value: 0\n",
      "actual value: 0.0 prdected value: 1\n",
      "actual value: 0.0 prdected value: 1\n",
      "actual value: 1.0 prdected value: 0\n",
      "actual value: 0.0 prdected value: 0\n",
      "actual value: 1.0 prdected value: 1\n"
     ]
    }
   ],
   "source": [
    "out=sigmoid(np.matmul(test_x_new,coef))\n",
    "pred=[]\n",
    "for i in range(len(test_x_new)):\n",
    "#     pred.append((sigmoid(test_x[i]*coef)))\n",
    "#     print(out[i])\n",
    "    pred.append(1 if out[i]>0.5 else 0)\n",
    "    print(\"actual value:\",test_y[i],\"prdected value:\",pred[i])\n"
   ]
  },
  {
   "cell_type": "code",
   "execution_count": 206,
   "metadata": {},
   "outputs": [
    {
     "name": "stdout",
     "output_type": "stream",
     "text": [
      "[[4 2]\n",
      " [1 1]]\n"
     ]
    },
    {
     "data": {
      "text/plain": [
       "(0.5666666666666667, 0.5833333333333333, 0.5636363636363636, None)"
      ]
     },
     "execution_count": 206,
     "metadata": {},
     "output_type": "execute_result"
    }
   ],
   "source": [
    "from sklearn.metrics import confusion_matrix\n",
    "from sklearn.metrics import precision_recall_fscore_support\n",
    "print(confusion_matrix(test_y,pred))\n",
    "precision_recall_fscore_support(test_y, pred, average='macro')\n",
    "\n"
   ]
  },
  {
   "cell_type": "code",
   "execution_count": null,
   "metadata": {},
   "outputs": [],
   "source": []
  }
 ],
 "metadata": {
  "kernelspec": {
   "display_name": "Python 3",
   "language": "python",
   "name": "python3"
  },
  "language_info": {
   "codemirror_mode": {
    "name": "ipython",
    "version": 3
   },
   "file_extension": ".py",
   "mimetype": "text/x-python",
   "name": "python",
   "nbconvert_exporter": "python",
   "pygments_lexer": "ipython3",
   "version": "3.7.3"
  }
 },
 "nbformat": 4,
 "nbformat_minor": 2
}
